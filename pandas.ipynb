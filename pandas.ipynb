{
  "nbformat": 4,
  "nbformat_minor": 0,
  "metadata": {
    "colab": {
      "provenance": []
    },
    "kernelspec": {
      "name": "python3",
      "display_name": "Python 3"
    },
    "language_info": {
      "name": "python"
    }
  },
  "cells": [
    {
      "cell_type": "markdown",
      "source": [
        "**PANDAS LIBRARY IN PYTHON **\n",
        "# what is pandas\n",
        "Pandas is a Python library used for working with data sets.\n",
        "\n",
        "It has functions for analyzing, cleaning, exploring, and manipulating data.\n",
        "\n",
        "The name \"Pandas\" has a reference to both \"Panel Data\", and \"Python Data Analysis\" and was created by Wes McKinney in 2008.\n",
        "# Why Use Pandas?\n",
        "Pandas allows us to analyze big data and make conclusions based on statistical theories.\n",
        "\n",
        "Pandas can clean messy data sets, and make them readable and relevant.\n",
        "\n",
        "Relevant data is very important in data science.\n",
        "# What Can Pandas Do?\n",
        "Pandas gives you answers about the data. Like:\n",
        "\n",
        "Is there a correlation between two or more columns?\n",
        "What is average value?\n",
        "Max value?\n",
        "Min value?"
      ],
      "metadata": {
        "id": "macZfDH1OEtw"
      }
    },
    {
      "cell_type": "markdown",
      "source": [
        "**pandas series**\n",
        "# What is a Series?\n",
        "A Pandas Series is like a column in a table.\n",
        "\n",
        "It is a one-dimensional array holding data of any type."
      ],
      "metadata": {
        "id": "TNfKDhKpPXJg"
      }
    },
    {
      "cell_type": "code",
      "source": [
        "import pandas as pd\n",
        "\n",
        "a = [1,2,3,4,5,6,7,8,9,10]\n",
        "\n",
        "myvar = pd.Series(a)\n",
        "\n",
        "print(myvar)"
      ],
      "metadata": {
        "colab": {
          "base_uri": "https://localhost:8080/",
          "height": 0
        },
        "id": "XOVGjnO-Pd3_",
        "outputId": "be248730-eb7b-4355-b814-c210ab0ca93c"
      },
      "execution_count": 21,
      "outputs": [
        {
          "output_type": "stream",
          "name": "stdout",
          "text": [
            "0     1\n",
            "1     2\n",
            "2     3\n",
            "3     4\n",
            "4     5\n",
            "5     6\n",
            "6     7\n",
            "7     8\n",
            "8     9\n",
            "9    10\n",
            "dtype: int64\n"
          ]
        }
      ]
    },
    {
      "cell_type": "markdown",
      "source": [
        "# What is a DataFrame?\n",
        "A Pandas DataFrame is a 2 dimensional data structure, like a 2 dimensional array, or a table with rows and columns.\n"
      ],
      "metadata": {
        "id": "nIPo_LDiPpq4"
      }
    },
    {
      "cell_type": "code",
      "source": [
        "#data frame in pandas\n",
        "import pandas as pd\n",
        "\n",
        "data = {\n",
        "  \"calories\": [400, 300, 200],\n",
        "  \"duration\": [50, 40, 45]\n",
        "}\n",
        "\n",
        "#load data into a DataFrame object:\n",
        "df = pd.DataFrame(data)\n",
        "\n",
        "print(df)"
      ],
      "metadata": {
        "colab": {
          "base_uri": "https://localhost:8080/",
          "height": 0
        },
        "id": "u-hYq3wzPswI",
        "outputId": "f39be964-b517-4751-8011-b34043920e89"
      },
      "execution_count": 22,
      "outputs": [
        {
          "output_type": "stream",
          "name": "stdout",
          "text": [
            "   calories  duration\n",
            "0       400        50\n",
            "1       300        40\n",
            "2       200        45\n"
          ]
        }
      ]
    },
    {
      "cell_type": "code",
      "source": [
        "#Named Indexes\n",
        "import pandas as pd\n",
        "\n",
        "data = {\n",
        "  \"calories\": [400, 300, 200],\n",
        "  \"duration\": [50, 40, 45]\n",
        "}\n",
        "\n",
        "df = pd.DataFrame(data, index = [\"day1\", \"day2\", \"day3\"])\n",
        "\n",
        "print(df)"
      ],
      "metadata": {
        "colab": {
          "base_uri": "https://localhost:8080/",
          "height": 0
        },
        "id": "6zemeKg1P2AI",
        "outputId": "3ee8b7b6-20ec-4fbb-8070-b1e636acdd39"
      },
      "execution_count": 23,
      "outputs": [
        {
          "output_type": "stream",
          "name": "stdout",
          "text": [
            "      calories  duration\n",
            "day1       400        50\n",
            "day2       300        40\n",
            "day3       200        45\n"
          ]
        }
      ]
    },
    {
      "cell_type": "markdown",
      "source": [
        "# Read CSV Files\n",
        "A simple way to store big data sets is to use CSV files (comma separated files).\n",
        "\n",
        "CSV files contains plain text and is a well know format that can be read by everyone including Pandas.\n",
        "\n",
        "In our examples we will be using a CSV file called 'data.csv'."
      ],
      "metadata": {
        "id": "FDm2D8LbQE4A"
      }
    },
    {
      "cell_type": "code",
      "source": [
        "print('Name,City,Age,Gender,Occupation')\n",
        "print('Alice,New York,25,Female,Engineer')\n",
        "print('Bob,London,30,Male,Doctor')\n",
        "print('Charlie,Paris,22,Male,Artist')\n",
        "print('David,Tokyo,28,Male,Teacher')"
      ],
      "metadata": {
        "colab": {
          "base_uri": "https://localhost:8080/"
        },
        "id": "tUnWvgkQb957",
        "outputId": "e407a575-4e71-439b-c000-6db13633a1f9"
      },
      "execution_count": null,
      "outputs": [
        {
          "output_type": "stream",
          "name": "stdout",
          "text": [
            "Name,City,Age,Gender,Occupation\n",
            "Alice,New York,25,Female,Engineer\n",
            "Bob,London,30,Male,Doctor\n",
            "Charlie,Paris,22,Male,Artist\n",
            "David,Tokyo,28,Male,Teacher\n"
          ]
        }
      ]
    },
    {
      "cell_type": "markdown",
      "source": [
        "**PANDAS DATAFRAME**\n",
        " * While NumPy is great for numerical operations, Pandas is more suited for the operations you described. Here's how you can perform those operations using Pandas:"
      ],
      "metadata": {
        "id": "JlYRxajmaOeQ"
      }
    },
    {
      "cell_type": "code",
      "source": [
        "import pandas as pd\n",
        "\n",
        "# Sample DataFrame\n",
        "data = {'Name': ['Alice', 'Bob', 'Charlie', 'David'],\n",
        "        'Age': [25, 30, 22, 28],\n",
        "        'City': ['New York', 'London', 'Paris', 'Tokyo']}\n",
        "df = pd.DataFrame(data)\n",
        "\n",
        "# Selecting data\n",
        "names = df['Name']  # Select the 'Name' column\n",
        "alice_data = df[df['Name'] == 'Alice']  # Select row where Name is 'Alice'\n",
        "\n",
        "# Filtering rows\n",
        "age_above_25 = df[df['Age'] > 25]  # Select rows where Age is greater than 25\n",
        "\n",
        "# Modifying data\n",
        "df['Age'] = df['Age'] + 1  # Increase everyone's age by 1\n",
        "df.loc[df['Name'] == 'Alice', 'City'] = 'Seattle'  # Change Alice's city to Seattle\n",
        "\n",
        "# Print the modified DataFrame\n",
        "print(df)"
      ],
      "metadata": {
        "colab": {
          "base_uri": "https://localhost:8080/"
        },
        "id": "kZ2NSBwIZ7AC",
        "outputId": "4f0a6a30-de79-40de-f784-6bf7334d6573"
      },
      "execution_count": null,
      "outputs": [
        {
          "output_type": "stream",
          "name": "stdout",
          "text": [
            "      Name  Age     City\n",
            "0    Alice   26  Seattle\n",
            "1      Bob   31   London\n",
            "2  Charlie   23    Paris\n",
            "3    David   29    Tokyo\n"
          ]
        }
      ]
    },
    {
      "cell_type": "markdown",
      "source": [],
      "metadata": {
        "id": "f4AHiGBUaNaa"
      }
    },
    {
      "cell_type": "code",
      "source": [
        "import csv\n"
      ],
      "metadata": {
        "id": "0Qe4oBFC9ize"
      },
      "execution_count": null,
      "outputs": []
    },
    {
      "source": [
        "%%writefile mydata.csv\n",
        "Age,Name,City,Gender,Occupation,Salary\n",
        "25,meggai,New York,Female,Engineer,60000\n",
        "30,Bobby,London,Male,Doctor,100000\n",
        "22,Charluhasan,Paris,Male,Artist,40000\n",
        "28,Deva,Tokyo,Male,Teacher,55000"
      ],
      "cell_type": "code",
      "metadata": {
        "colab": {
          "base_uri": "https://localhost:8080/",
          "height": 0
        },
        "id": "2jjOVmuJMiq5",
        "outputId": "1854bb22-44c2-4f90-cf20-282546b8a2b6"
      },
      "execution_count": 7,
      "outputs": [
        {
          "output_type": "stream",
          "name": "stdout",
          "text": [
            "Overwriting mydata.csv\n"
          ]
        }
      ]
    },
    {
      "source": [
        "import pandas as pd\n",
        "df = pd.read_csv('mydata.csv')\n",
        "print(df)"
      ],
      "cell_type": "code",
      "metadata": {
        "colab": {
          "base_uri": "https://localhost:8080/",
          "height": 0
        },
        "id": "esFvlmGvLrny",
        "outputId": "f0668845-5598-440b-8ff9-5b25d61b053f"
      },
      "execution_count": 8,
      "outputs": [
        {
          "output_type": "stream",
          "name": "stdout",
          "text": [
            "   Age         Name      City  Gender Occupation  Salary\n",
            "0   25       meggai  New York  Female   Engineer   60000\n",
            "1   30        Bobby    London    Male     Doctor  100000\n",
            "2   22  Charluhasan     Paris    Male     Artist   40000\n",
            "3   28         Deva     Tokyo    Male    Teacher   55000\n"
          ]
        }
      ]
    },
    {
      "cell_type": "code",
      "source": [
        "import pandas as pd\n",
        "\n",
        "# 1. Read data from the CSV file\n",
        "df = pd.read_csv('mydata.csv')\n",
        "\n",
        "print(\"Original DataFrame:\")\n",
        "print(df)\n",
        "\n",
        "# 2. Handle missing values\n",
        "# Fill missing values in 'Age' with the median value\n",
        "df['Age'] = df['Age'].fillna(df['Age'].median())\n",
        "\n",
        "# Fill missing values in 'Salary' with the mean value\n",
        "df['Salary'] = df['Salary'].fillna(df['Salary'].mean())\n",
        "\n",
        "print(\"\\nDataFrame after handling missing values:\")\n",
        "print(df)\n",
        "\n",
        "# 3. Remove duplicate rows\n",
        "df = df.drop_duplicates()\n",
        "\n",
        "print(\"\\nDataFrame after removing duplicates:\")\n",
        "print(df)\n",
        "\n",
        "# 4. Convert data types\n",
        "# Convert 'Age' and 'Salary' to integers\n",
        "df['Age'] = df['Age'].astype(int)\n",
        "df['Salary'] = df['Salary'].astype(int)\n",
        "\n",
        "print(\"\\nDataFrame after converting data types:\")\n",
        "print(df)\n",
        "\n",
        "# Optionally, save the cleaned DataFrame to a new CSV file\n",
        "df.to_csv('cleaned_data.csv', index=False)\n"
      ],
      "metadata": {
        "colab": {
          "base_uri": "https://localhost:8080/",
          "height": 0
        },
        "id": "72_WFMEgMOtx",
        "outputId": "5ee49d69-a2c4-4c29-baad-3eb510832e81"
      },
      "execution_count": 10,
      "outputs": [
        {
          "output_type": "stream",
          "name": "stdout",
          "text": [
            "Original DataFrame:\n",
            "   Age         Name      City  Gender Occupation  Salary\n",
            "0   25       meggai  New York  Female   Engineer   60000\n",
            "1   30        Bobby    London    Male     Doctor  100000\n",
            "2   22  Charluhasan     Paris    Male     Artist   40000\n",
            "3   28         Deva     Tokyo    Male    Teacher   55000\n",
            "\n",
            "DataFrame after handling missing values:\n",
            "   Age         Name      City  Gender Occupation  Salary\n",
            "0   25       meggai  New York  Female   Engineer   60000\n",
            "1   30        Bobby    London    Male     Doctor  100000\n",
            "2   22  Charluhasan     Paris    Male     Artist   40000\n",
            "3   28         Deva     Tokyo    Male    Teacher   55000\n",
            "\n",
            "DataFrame after removing duplicates:\n",
            "   Age         Name      City  Gender Occupation  Salary\n",
            "0   25       meggai  New York  Female   Engineer   60000\n",
            "1   30        Bobby    London    Male     Doctor  100000\n",
            "2   22  Charluhasan     Paris    Male     Artist   40000\n",
            "3   28         Deva     Tokyo    Male    Teacher   55000\n",
            "\n",
            "DataFrame after converting data types:\n",
            "   Age         Name      City  Gender Occupation  Salary\n",
            "0   25       meggai  New York  Female   Engineer   60000\n",
            "1   30        Bobby    London    Male     Doctor  100000\n",
            "2   22  Charluhasan     Paris    Male     Artist   40000\n",
            "3   28         Deva     Tokyo    Male    Teacher   55000\n"
          ]
        }
      ]
    },
    {
      "cell_type": "code",
      "source": [],
      "metadata": {
        "id": "QAEAyAAGM6J2"
      },
      "execution_count": null,
      "outputs": []
    },
    {
      "source": [
        "import pandas as pd\n",
        "df = pd.read_csv('mydata.csv')"
      ],
      "cell_type": "code",
      "metadata": {
        "id": "lRLCOmIRNAqT"
      },
      "execution_count": 13,
      "outputs": []
    },
    {
      "cell_type": "code",
      "source": [],
      "metadata": {
        "id": "bRsdUTcHNWmn"
      },
      "execution_count": null,
      "outputs": []
    },
    {
      "cell_type": "code",
      "source": [],
      "metadata": {
        "id": "LotJ98xoNfe2"
      },
      "execution_count": null,
      "outputs": []
    },
    {
      "source": [
        "df.describe()"
      ],
      "cell_type": "code",
      "metadata": {
        "colab": {
          "base_uri": "https://localhost:8080/",
          "height": 300
        },
        "id": "f765s03INBZ-",
        "outputId": "49f5b903-c093-4ee0-80cc-8ac103508ff2"
      },
      "execution_count": 12,
      "outputs": [
        {
          "output_type": "execute_result",
          "data": {
            "text/plain": [
              "         Age         Salary\n",
              "count   4.00       4.000000\n",
              "mean   26.25   63750.000000\n",
              "std     3.50   25617.376915\n",
              "min    22.00   40000.000000\n",
              "25%    24.25   51250.000000\n",
              "50%    26.50   57500.000000\n",
              "75%    28.50   70000.000000\n",
              "max    30.00  100000.000000"
            ],
            "text/html": [
              "\n",
              "  <div id=\"df-a5d3d9b0-d775-4132-838b-5de74017a416\" class=\"colab-df-container\">\n",
              "    <div>\n",
              "<style scoped>\n",
              "    .dataframe tbody tr th:only-of-type {\n",
              "        vertical-align: middle;\n",
              "    }\n",
              "\n",
              "    .dataframe tbody tr th {\n",
              "        vertical-align: top;\n",
              "    }\n",
              "\n",
              "    .dataframe thead th {\n",
              "        text-align: right;\n",
              "    }\n",
              "</style>\n",
              "<table border=\"1\" class=\"dataframe\">\n",
              "  <thead>\n",
              "    <tr style=\"text-align: right;\">\n",
              "      <th></th>\n",
              "      <th>Age</th>\n",
              "      <th>Salary</th>\n",
              "    </tr>\n",
              "  </thead>\n",
              "  <tbody>\n",
              "    <tr>\n",
              "      <th>count</th>\n",
              "      <td>4.00</td>\n",
              "      <td>4.000000</td>\n",
              "    </tr>\n",
              "    <tr>\n",
              "      <th>mean</th>\n",
              "      <td>26.25</td>\n",
              "      <td>63750.000000</td>\n",
              "    </tr>\n",
              "    <tr>\n",
              "      <th>std</th>\n",
              "      <td>3.50</td>\n",
              "      <td>25617.376915</td>\n",
              "    </tr>\n",
              "    <tr>\n",
              "      <th>min</th>\n",
              "      <td>22.00</td>\n",
              "      <td>40000.000000</td>\n",
              "    </tr>\n",
              "    <tr>\n",
              "      <th>25%</th>\n",
              "      <td>24.25</td>\n",
              "      <td>51250.000000</td>\n",
              "    </tr>\n",
              "    <tr>\n",
              "      <th>50%</th>\n",
              "      <td>26.50</td>\n",
              "      <td>57500.000000</td>\n",
              "    </tr>\n",
              "    <tr>\n",
              "      <th>75%</th>\n",
              "      <td>28.50</td>\n",
              "      <td>70000.000000</td>\n",
              "    </tr>\n",
              "    <tr>\n",
              "      <th>max</th>\n",
              "      <td>30.00</td>\n",
              "      <td>100000.000000</td>\n",
              "    </tr>\n",
              "  </tbody>\n",
              "</table>\n",
              "</div>\n",
              "    <div class=\"colab-df-buttons\">\n",
              "\n",
              "  <div class=\"colab-df-container\">\n",
              "    <button class=\"colab-df-convert\" onclick=\"convertToInteractive('df-a5d3d9b0-d775-4132-838b-5de74017a416')\"\n",
              "            title=\"Convert this dataframe to an interactive table.\"\n",
              "            style=\"display:none;\">\n",
              "\n",
              "  <svg xmlns=\"http://www.w3.org/2000/svg\" height=\"24px\" viewBox=\"0 -960 960 960\">\n",
              "    <path d=\"M120-120v-720h720v720H120Zm60-500h600v-160H180v160Zm220 220h160v-160H400v160Zm0 220h160v-160H400v160ZM180-400h160v-160H180v160Zm440 0h160v-160H620v160ZM180-180h160v-160H180v160Zm440 0h160v-160H620v160Z\"/>\n",
              "  </svg>\n",
              "    </button>\n",
              "\n",
              "  <style>\n",
              "    .colab-df-container {\n",
              "      display:flex;\n",
              "      gap: 12px;\n",
              "    }\n",
              "\n",
              "    .colab-df-convert {\n",
              "      background-color: #E8F0FE;\n",
              "      border: none;\n",
              "      border-radius: 50%;\n",
              "      cursor: pointer;\n",
              "      display: none;\n",
              "      fill: #1967D2;\n",
              "      height: 32px;\n",
              "      padding: 0 0 0 0;\n",
              "      width: 32px;\n",
              "    }\n",
              "\n",
              "    .colab-df-convert:hover {\n",
              "      background-color: #E2EBFA;\n",
              "      box-shadow: 0px 1px 2px rgba(60, 64, 67, 0.3), 0px 1px 3px 1px rgba(60, 64, 67, 0.15);\n",
              "      fill: #174EA6;\n",
              "    }\n",
              "\n",
              "    .colab-df-buttons div {\n",
              "      margin-bottom: 4px;\n",
              "    }\n",
              "\n",
              "    [theme=dark] .colab-df-convert {\n",
              "      background-color: #3B4455;\n",
              "      fill: #D2E3FC;\n",
              "    }\n",
              "\n",
              "    [theme=dark] .colab-df-convert:hover {\n",
              "      background-color: #434B5C;\n",
              "      box-shadow: 0px 1px 3px 1px rgba(0, 0, 0, 0.15);\n",
              "      filter: drop-shadow(0px 1px 2px rgba(0, 0, 0, 0.3));\n",
              "      fill: #FFFFFF;\n",
              "    }\n",
              "  </style>\n",
              "\n",
              "    <script>\n",
              "      const buttonEl =\n",
              "        document.querySelector('#df-a5d3d9b0-d775-4132-838b-5de74017a416 button.colab-df-convert');\n",
              "      buttonEl.style.display =\n",
              "        google.colab.kernel.accessAllowed ? 'block' : 'none';\n",
              "\n",
              "      async function convertToInteractive(key) {\n",
              "        const element = document.querySelector('#df-a5d3d9b0-d775-4132-838b-5de74017a416');\n",
              "        const dataTable =\n",
              "          await google.colab.kernel.invokeFunction('convertToInteractive',\n",
              "                                                    [key], {});\n",
              "        if (!dataTable) return;\n",
              "\n",
              "        const docLinkHtml = 'Like what you see? Visit the ' +\n",
              "          '<a target=\"_blank\" href=https://colab.research.google.com/notebooks/data_table.ipynb>data table notebook</a>'\n",
              "          + ' to learn more about interactive tables.';\n",
              "        element.innerHTML = '';\n",
              "        dataTable['output_type'] = 'display_data';\n",
              "        await google.colab.output.renderOutput(dataTable, element);\n",
              "        const docLink = document.createElement('div');\n",
              "        docLink.innerHTML = docLinkHtml;\n",
              "        element.appendChild(docLink);\n",
              "      }\n",
              "    </script>\n",
              "  </div>\n",
              "\n",
              "\n",
              "<div id=\"df-cfa9372e-3067-43f0-8380-ac22852bd367\">\n",
              "  <button class=\"colab-df-quickchart\" onclick=\"quickchart('df-cfa9372e-3067-43f0-8380-ac22852bd367')\"\n",
              "            title=\"Suggest charts\"\n",
              "            style=\"display:none;\">\n",
              "\n",
              "<svg xmlns=\"http://www.w3.org/2000/svg\" height=\"24px\"viewBox=\"0 0 24 24\"\n",
              "     width=\"24px\">\n",
              "    <g>\n",
              "        <path d=\"M19 3H5c-1.1 0-2 .9-2 2v14c0 1.1.9 2 2 2h14c1.1 0 2-.9 2-2V5c0-1.1-.9-2-2-2zM9 17H7v-7h2v7zm4 0h-2V7h2v10zm4 0h-2v-4h2v4z\"/>\n",
              "    </g>\n",
              "</svg>\n",
              "  </button>\n",
              "\n",
              "<style>\n",
              "  .colab-df-quickchart {\n",
              "      --bg-color: #E8F0FE;\n",
              "      --fill-color: #1967D2;\n",
              "      --hover-bg-color: #E2EBFA;\n",
              "      --hover-fill-color: #174EA6;\n",
              "      --disabled-fill-color: #AAA;\n",
              "      --disabled-bg-color: #DDD;\n",
              "  }\n",
              "\n",
              "  [theme=dark] .colab-df-quickchart {\n",
              "      --bg-color: #3B4455;\n",
              "      --fill-color: #D2E3FC;\n",
              "      --hover-bg-color: #434B5C;\n",
              "      --hover-fill-color: #FFFFFF;\n",
              "      --disabled-bg-color: #3B4455;\n",
              "      --disabled-fill-color: #666;\n",
              "  }\n",
              "\n",
              "  .colab-df-quickchart {\n",
              "    background-color: var(--bg-color);\n",
              "    border: none;\n",
              "    border-radius: 50%;\n",
              "    cursor: pointer;\n",
              "    display: none;\n",
              "    fill: var(--fill-color);\n",
              "    height: 32px;\n",
              "    padding: 0;\n",
              "    width: 32px;\n",
              "  }\n",
              "\n",
              "  .colab-df-quickchart:hover {\n",
              "    background-color: var(--hover-bg-color);\n",
              "    box-shadow: 0 1px 2px rgba(60, 64, 67, 0.3), 0 1px 3px 1px rgba(60, 64, 67, 0.15);\n",
              "    fill: var(--button-hover-fill-color);\n",
              "  }\n",
              "\n",
              "  .colab-df-quickchart-complete:disabled,\n",
              "  .colab-df-quickchart-complete:disabled:hover {\n",
              "    background-color: var(--disabled-bg-color);\n",
              "    fill: var(--disabled-fill-color);\n",
              "    box-shadow: none;\n",
              "  }\n",
              "\n",
              "  .colab-df-spinner {\n",
              "    border: 2px solid var(--fill-color);\n",
              "    border-color: transparent;\n",
              "    border-bottom-color: var(--fill-color);\n",
              "    animation:\n",
              "      spin 1s steps(1) infinite;\n",
              "  }\n",
              "\n",
              "  @keyframes spin {\n",
              "    0% {\n",
              "      border-color: transparent;\n",
              "      border-bottom-color: var(--fill-color);\n",
              "      border-left-color: var(--fill-color);\n",
              "    }\n",
              "    20% {\n",
              "      border-color: transparent;\n",
              "      border-left-color: var(--fill-color);\n",
              "      border-top-color: var(--fill-color);\n",
              "    }\n",
              "    30% {\n",
              "      border-color: transparent;\n",
              "      border-left-color: var(--fill-color);\n",
              "      border-top-color: var(--fill-color);\n",
              "      border-right-color: var(--fill-color);\n",
              "    }\n",
              "    40% {\n",
              "      border-color: transparent;\n",
              "      border-right-color: var(--fill-color);\n",
              "      border-top-color: var(--fill-color);\n",
              "    }\n",
              "    60% {\n",
              "      border-color: transparent;\n",
              "      border-right-color: var(--fill-color);\n",
              "    }\n",
              "    80% {\n",
              "      border-color: transparent;\n",
              "      border-right-color: var(--fill-color);\n",
              "      border-bottom-color: var(--fill-color);\n",
              "    }\n",
              "    90% {\n",
              "      border-color: transparent;\n",
              "      border-bottom-color: var(--fill-color);\n",
              "    }\n",
              "  }\n",
              "</style>\n",
              "\n",
              "  <script>\n",
              "    async function quickchart(key) {\n",
              "      const quickchartButtonEl =\n",
              "        document.querySelector('#' + key + ' button');\n",
              "      quickchartButtonEl.disabled = true;  // To prevent multiple clicks.\n",
              "      quickchartButtonEl.classList.add('colab-df-spinner');\n",
              "      try {\n",
              "        const charts = await google.colab.kernel.invokeFunction(\n",
              "            'suggestCharts', [key], {});\n",
              "      } catch (error) {\n",
              "        console.error('Error during call to suggestCharts:', error);\n",
              "      }\n",
              "      quickchartButtonEl.classList.remove('colab-df-spinner');\n",
              "      quickchartButtonEl.classList.add('colab-df-quickchart-complete');\n",
              "    }\n",
              "    (() => {\n",
              "      let quickchartButtonEl =\n",
              "        document.querySelector('#df-cfa9372e-3067-43f0-8380-ac22852bd367 button');\n",
              "      quickchartButtonEl.style.display =\n",
              "        google.colab.kernel.accessAllowed ? 'block' : 'none';\n",
              "    })();\n",
              "  </script>\n",
              "</div>\n",
              "\n",
              "    </div>\n",
              "  </div>\n"
            ],
            "application/vnd.google.colaboratory.intrinsic+json": {
              "type": "dataframe",
              "summary": "{\n  \"name\": \"df\",\n  \"rows\": 8,\n  \"fields\": [\n    {\n      \"column\": \"Age\",\n      \"properties\": {\n        \"dtype\": \"number\",\n        \"std\": 10.695459650845173,\n        \"min\": 3.5,\n        \"max\": 30.0,\n        \"num_unique_values\": 8,\n        \"samples\": [\n          26.25,\n          26.5,\n          4.0\n        ],\n        \"semantic_type\": \"\",\n        \"description\": \"\"\n      }\n    },\n    {\n      \"column\": \"Salary\",\n      \"properties\": {\n        \"dtype\": \"number\",\n        \"std\": 30077.85784815294,\n        \"min\": 4.0,\n        \"max\": 100000.0,\n        \"num_unique_values\": 8,\n        \"samples\": [\n          63750.0,\n          57500.0,\n          4.0\n        ],\n        \"semantic_type\": \"\",\n        \"description\": \"\"\n      }\n    }\n  ]\n}"
            }
          },
          "metadata": {},
          "execution_count": 12
        }
      ]
    },
    {
      "cell_type": "markdown",
      "source": [],
      "metadata": {
        "id": "_FJUD8mqNEP4"
      }
    },
    {
      "source": [
        "df.groupby('Gender')['Salary'].mean()"
      ],
      "cell_type": "code",
      "metadata": {
        "id": "qaGMqTNzNCN0"
      },
      "execution_count": null,
      "outputs": []
    },
    {
      "source": [
        "df['Age'].sum()"
      ],
      "cell_type": "code",
      "metadata": {
        "colab": {
          "base_uri": "https://localhost:8080/",
          "height": 0
        },
        "id": "TZA38DEvNC5j",
        "outputId": "dec1fe83-bb44-4459-c7f8-03743bd5a23d"
      },
      "execution_count": 11,
      "outputs": [
        {
          "output_type": "execute_result",
          "data": {
            "text/plain": [
              "105"
            ]
          },
          "metadata": {},
          "execution_count": 11
        }
      ]
    },
    {
      "source": [
        "import pandas as pd\n",
        "\n",
        "# Sample DataFrames\n",
        "df1 = pd.DataFrame({'A': [1, 2, 3], 'B': [4, 5, 6]})\n",
        "df2 = pd.DataFrame({'A': [4, 5, 6], 'B': [7, 8, 9]})\n",
        "\n",
        "# Concatenate vertically\n",
        "vertical_concat = pd.concat([df1, df2])\n",
        "\n",
        "# Concatenate horizontally\n",
        "horizontal_concat = pd.concat([df1, df2], axis=1)\n",
        "\n",
        "# Print the results\n",
        "print(\"Vertical Concatenation:\")\n",
        "print(vertical_concat)\n",
        "\n",
        "print(\"\\nHorizontal Concatenation:\")\n",
        "print(horizontal_concat)"
      ],
      "cell_type": "code",
      "metadata": {
        "colab": {
          "base_uri": "https://localhost:8080/",
          "height": 0
        },
        "id": "VrRuLfZJNhXw",
        "outputId": "3f05436e-30a2-412b-b804-0068784402ae"
      },
      "execution_count": 20,
      "outputs": [
        {
          "output_type": "stream",
          "name": "stdout",
          "text": [
            "Vertical Concatenation:\n",
            "   A  B\n",
            "0  1  4\n",
            "1  2  5\n",
            "2  3  6\n",
            "0  4  7\n",
            "1  5  8\n",
            "2  6  9\n",
            "\n",
            "Horizontal Concatenation:\n",
            "   A  B  A  B\n",
            "0  1  4  4  7\n",
            "1  2  5  5  8\n",
            "2  3  6  6  9\n"
          ]
        }
      ]
    },
    {
      "cell_type": "markdown",
      "source": [],
      "metadata": {
        "id": "uriYLQrcN3rV"
      }
    },
    {
      "source": [
        "import pandas as pd\n",
        "\n",
        "# Sample DataFrames\n",
        "df1 = pd.DataFrame({'key': ['A', 'B', 'C'], 'value1': [1, 2, 3]})\n",
        "df2 = pd.DataFrame({'key': ['B', 'C', 'D'], 'value2': [4, 5, 6]})\n",
        "\n",
        "# Merge DataFrames based on 'key' column\n",
        "merged_df = pd.merge(df1, df2, on='key')\n",
        "\n",
        "# Print the merged DataFrame\n",
        "print(merged_df)"
      ],
      "cell_type": "code",
      "metadata": {
        "colab": {
          "base_uri": "https://localhost:8080/",
          "height": 0
        },
        "id": "_6nZvhZ5NiXl",
        "outputId": "53c90f40-2edb-4988-cfe4-f03b1eb4f64d"
      },
      "execution_count": 19,
      "outputs": [
        {
          "output_type": "stream",
          "name": "stdout",
          "text": [
            "  key  value1  value2\n",
            "0   B       2       4\n",
            "1   C       3       5\n"
          ]
        }
      ]
    },
    {
      "source": [
        "import pandas as pd\n",
        "\n",
        "# Sample DataFrames\n",
        "df1 = pd.DataFrame({'value1': [1, 2, 3]}, index=['A', 'B', 'C'])\n",
        "df2 = pd.DataFrame({'value2': [4, 5, 6]}, index=['B', 'C', 'D'])\n",
        "\n",
        "# Join DataFrames based on index\n",
        "joined_df = df1.join(df2, how='inner')  # Example using inner join\n",
        "\n",
        "# Print the joined DataFrame\n",
        "print(joined_df)"
      ],
      "cell_type": "code",
      "metadata": {
        "colab": {
          "base_uri": "https://localhost:8080/",
          "height": 0
        },
        "id": "t4xACoAyNjPQ",
        "outputId": "ff1de3de-036c-45cd-ffd9-c360881cfc26"
      },
      "execution_count": 18,
      "outputs": [
        {
          "output_type": "stream",
          "name": "stdout",
          "text": [
            "   value1  value2\n",
            "B       2       4\n",
            "C       3       5\n"
          ]
        }
      ]
    },
    {
      "cell_type": "markdown",
      "source": [
        "Absolutely! Pandas offers a suite of powerful tools and features that make it indispensable for data science professionals. Here’s a concise breakdown of its advantages:\n",
        "\n",
        "### 1. Specialized Data Structures\n",
        "- **DataFrames**: Two-dimensional, size-mutable, and potentially heterogeneous tabular data structure with labeled axes (rows and columns).\n",
        "- **Series**: One-dimensional labeled array capable of holding any data type (integers, strings, floating points, etc.).\n",
        "- **Indexing and Slicing**: Advanced methods for indexing, slicing, and subsetting data that are more powerful and flexible compared to basic Python structures like lists or dictionaries.\n",
        "\n",
        "### 2. Data Cleaning and Transformation\n",
        "- **Handling Missing Data**: Functions such as `fillna()`, `dropna()`, and `isna()` help manage and impute missing values.\n",
        "- **Removing Duplicates**: The `drop_duplicates()` method eliminates duplicate rows.\n",
        "- **Data Type Conversion**: Methods like `astype()` allow conversion between different data types.\n",
        "\n",
        "### 3. Data Analysis\n",
        "- **Descriptive Statistics**: Functions like `describe()`, `mean()`, `median()`, `std()`, etc., provide quick insights into the data distribution and characteristics.\n",
        "- **Aggregation and Grouping**: The `groupby()` function allows grouping data and applying aggregate functions like `sum()`, `count()`, and `mean()` to each group.\n",
        "- **Filtering and Querying**: Capabilities to filter and query data using boolean indexing and `query()` method.\n",
        "\n",
        "### 4. Data Visualization\n",
        "- **Integration with Visualization Libraries**: Seamless integration with libraries like Matplotlib and Seaborn for creating plots and visualizations directly from Pandas DataFrames and Series.\n",
        "- **Built-in Plotting**: Pandas provides basic plotting capabilities through its `plot()` method, which can be handy for quick visualizations.\n",
        "\n",
        "### 5. Efficiency\n",
        "- **Built on NumPy**: Pandas is built on top of NumPy, which provides efficient array operations and vectorized computations.\n",
        "- **Optimized Performance**: Designed to handle large datasets efficiently, outperforming traditional Python data structures in terms of speed and memory usage.\n",
        "\n",
        "### 6. Community and Resources\n",
        "- **Active Community**: Large community support through forums, Q&A sites, and contributions.\n",
        "- **Extensive Documentation**: Comprehensive and well-maintained documentation and tutorials.\n",
        "\n",
        "In summary, Pandas enhances productivity and efficiency in data science workflows by offering sophisticated data structures, powerful data manipulation capabilities, and seamless integration with visualization tools. Its performance and support make it a go-to tool for handling and analyzing complex datasets."
      ],
      "metadata": {
        "id": "5uoypon2OEsE"
      }
    },
    {
      "cell_type": "code",
      "source": [],
      "metadata": {
        "id": "2R4sCsnEOLNm"
      },
      "execution_count": null,
      "outputs": []
    }
  ]
}